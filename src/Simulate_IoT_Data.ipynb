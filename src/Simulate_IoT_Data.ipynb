{
 "cells": [
  {
   "cell_type": "markdown",
   "metadata": {},
   "source": [
    "# Simulating IoT Data for Adventure Works Cycles"
   ]
  },
  {
   "cell_type": "code",
   "execution_count": 57,
   "metadata": {
    "collapsed": false
   },
   "outputs": [
    {
     "data": {
      "text/html": [
       "<div>\n",
       "<table border=\"1\" class=\"dataframe\">\n",
       "  <thead>\n",
       "    <tr style=\"text-align: right;\">\n",
       "      <th></th>\n",
       "      <th>ProductKey</th>\n",
       "      <th>CustomerKey</th>\n",
       "      <th>OrderDateKey</th>\n",
       "      <th>ShipDateKey</th>\n",
       "      <th>LastName</th>\n",
       "      <th>FirstName</th>\n",
       "      <th>BirthDate</th>\n",
       "      <th>MaritalStatus</th>\n",
       "      <th>Gender</th>\n",
       "      <th>YearlyIncome</th>\n",
       "      <th>...</th>\n",
       "      <th>AddressLine2</th>\n",
       "      <th>City</th>\n",
       "      <th>StateProvinceCode</th>\n",
       "      <th>StateProvinceName</th>\n",
       "      <th>CountryRegionCode</th>\n",
       "      <th>EnglishCountryRegionName</th>\n",
       "      <th>PostalCode</th>\n",
       "      <th>DateFirstPurchase</th>\n",
       "      <th>CommuteDistance</th>\n",
       "      <th>SalesOrderNumber</th>\n",
       "    </tr>\n",
       "  </thead>\n",
       "  <tbody>\n",
       "    <tr>\n",
       "      <th>0</th>\n",
       "      <td>222</td>\n",
       "      <td>12131</td>\n",
       "      <td>20040412</td>\n",
       "      <td>20040419</td>\n",
       "      <td>Dominguez</td>\n",
       "      <td>Randall</td>\n",
       "      <td>10/17/1955</td>\n",
       "      <td>M</td>\n",
       "      <td>M</td>\n",
       "      <td>90000</td>\n",
       "      <td>...</td>\n",
       "      <td>NaN</td>\n",
       "      <td>Dunkerque</td>\n",
       "      <td>59</td>\n",
       "      <td>Nord</td>\n",
       "      <td>FR</td>\n",
       "      <td>France</td>\n",
       "      <td>59140</td>\n",
       "      <td>8/24/2001</td>\n",
       "      <td>2-5 Miles</td>\n",
       "      <td>SO68134</td>\n",
       "    </tr>\n",
       "    <tr>\n",
       "      <th>1</th>\n",
       "      <td>222</td>\n",
       "      <td>13235</td>\n",
       "      <td>20030822</td>\n",
       "      <td>20030829</td>\n",
       "      <td>Robinson</td>\n",
       "      <td>Jonathan</td>\n",
       "      <td>9/22/1948</td>\n",
       "      <td>M</td>\n",
       "      <td>M</td>\n",
       "      <td>60000</td>\n",
       "      <td>...</td>\n",
       "      <td>NaN</td>\n",
       "      <td>Woodburn</td>\n",
       "      <td>OR</td>\n",
       "      <td>Oregon</td>\n",
       "      <td>US</td>\n",
       "      <td>United States</td>\n",
       "      <td>97071</td>\n",
       "      <td>8/22/2003</td>\n",
       "      <td>10+ Miles</td>\n",
       "      <td>SO52951</td>\n",
       "    </tr>\n",
       "    <tr>\n",
       "      <th>2</th>\n",
       "      <td>222</td>\n",
       "      <td>11195</td>\n",
       "      <td>20040424</td>\n",
       "      <td>20040501</td>\n",
       "      <td>Henderson</td>\n",
       "      <td>Megan</td>\n",
       "      <td>2/10/1946</td>\n",
       "      <td>M</td>\n",
       "      <td>F</td>\n",
       "      <td>60000</td>\n",
       "      <td>...</td>\n",
       "      <td>NaN</td>\n",
       "      <td>Renton</td>\n",
       "      <td>WA</td>\n",
       "      <td>Washington</td>\n",
       "      <td>US</td>\n",
       "      <td>United States</td>\n",
       "      <td>98055</td>\n",
       "      <td>10/16/2003</td>\n",
       "      <td>10+ Miles</td>\n",
       "      <td>SO68921</td>\n",
       "    </tr>\n",
       "    <tr>\n",
       "      <th>3</th>\n",
       "      <td>222</td>\n",
       "      <td>15292</td>\n",
       "      <td>20040406</td>\n",
       "      <td>20040413</td>\n",
       "      <td>Bailey</td>\n",
       "      <td>Megan</td>\n",
       "      <td>6/17/1971</td>\n",
       "      <td>S</td>\n",
       "      <td>F</td>\n",
       "      <td>60000</td>\n",
       "      <td>...</td>\n",
       "      <td>NaN</td>\n",
       "      <td>Woodburn</td>\n",
       "      <td>OR</td>\n",
       "      <td>Oregon</td>\n",
       "      <td>US</td>\n",
       "      <td>United States</td>\n",
       "      <td>97071</td>\n",
       "      <td>4/6/2004</td>\n",
       "      <td>1-2 Miles</td>\n",
       "      <td>SO67722</td>\n",
       "    </tr>\n",
       "    <tr>\n",
       "      <th>4</th>\n",
       "      <td>222</td>\n",
       "      <td>25767</td>\n",
       "      <td>20031220</td>\n",
       "      <td>20031227</td>\n",
       "      <td>Hill</td>\n",
       "      <td>Bailey</td>\n",
       "      <td>10/22/1968</td>\n",
       "      <td>S</td>\n",
       "      <td>F</td>\n",
       "      <td>100000</td>\n",
       "      <td>...</td>\n",
       "      <td>NaN</td>\n",
       "      <td>Tacoma</td>\n",
       "      <td>WA</td>\n",
       "      <td>Washington</td>\n",
       "      <td>US</td>\n",
       "      <td>United States</td>\n",
       "      <td>98403</td>\n",
       "      <td>12/20/2003</td>\n",
       "      <td>0-1 Miles</td>\n",
       "      <td>SO60438</td>\n",
       "    </tr>\n",
       "  </tbody>\n",
       "</table>\n",
       "<p>5 rows × 26 columns</p>\n",
       "</div>"
      ],
      "text/plain": [
       "   ProductKey  CustomerKey  OrderDateKey  ShipDateKey   LastName FirstName  \\\n",
       "0         222        12131      20040412     20040419  Dominguez   Randall   \n",
       "1         222        13235      20030822     20030829   Robinson  Jonathan   \n",
       "2         222        11195      20040424     20040501  Henderson     Megan   \n",
       "3         222        15292      20040406     20040413     Bailey     Megan   \n",
       "4         222        25767      20031220     20031227       Hill    Bailey   \n",
       "\n",
       "    BirthDate MaritalStatus Gender  YearlyIncome       ...         \\\n",
       "0  10/17/1955             M      M         90000       ...          \n",
       "1   9/22/1948             M      M         60000       ...          \n",
       "2   2/10/1946             M      F         60000       ...          \n",
       "3   6/17/1971             S      F         60000       ...          \n",
       "4  10/22/1968             S      F        100000       ...          \n",
       "\n",
       "   AddressLine2       City StateProvinceCode  StateProvinceName  \\\n",
       "0           NaN  Dunkerque                59               Nord   \n",
       "1           NaN   Woodburn                OR             Oregon   \n",
       "2           NaN     Renton                WA         Washington   \n",
       "3           NaN   Woodburn                OR             Oregon   \n",
       "4           NaN     Tacoma                WA         Washington   \n",
       "\n",
       "   CountryRegionCode EnglishCountryRegionName PostalCode DateFirstPurchase  \\\n",
       "0                 FR                   France      59140         8/24/2001   \n",
       "1                 US            United States      97071         8/22/2003   \n",
       "2                 US            United States      98055        10/16/2003   \n",
       "3                 US            United States      97071          4/6/2004   \n",
       "4                 US            United States      98403        12/20/2003   \n",
       "\n",
       "  CommuteDistance SalesOrderNumber  \n",
       "0       2-5 Miles          SO68134  \n",
       "1       10+ Miles          SO52951  \n",
       "2       10+ Miles          SO68921  \n",
       "3       1-2 Miles          SO67722  \n",
       "4       0-1 Miles          SO60438  \n",
       "\n",
       "[5 rows x 26 columns]"
      ]
     },
     "execution_count": 57,
     "metadata": {},
     "output_type": "execute_result"
    }
   ],
   "source": [
    "import pandas as pd\n",
    "import numpy as np\n",
    "import uuid\n",
    "import geopy\n",
    "from geopy.distance import VincentyDistance\n",
    "\n",
    "df = pd.read_csv(\"../data/AW_helmet_customerData.csv\", encoding = 'iso-8859-1')\n",
    "df.head()"
   ]
  },
  {
   "cell_type": "markdown",
   "metadata": {},
   "source": [
    "## Add GeoCodes to addresses\n",
    "\n",
    "First step: we need to format the address in a way that can be read by the online geocoding services."
   ]
  },
  {
   "cell_type": "code",
   "execution_count": 43,
   "metadata": {
    "collapsed": false
   },
   "outputs": [],
   "source": [
    "def formataddress(x, hastwo):\n",
    "    address = ''\n",
    "    if hastwo:\n",
    "        address = x['AddressLine1'].strip() + x['AddressLine2'].strip()\n",
    "    else:\n",
    "        address = x['AddressLine1'] \n",
    "    address += ',' +  x['City'] + ',' + x['StateProvinceName'] + ','+ x['EnglishCountryRegionName']\n",
    "    \n",
    "    return address\n",
    "\n",
    "    \n",
    "\n",
    "df['fulladdress'] = df[['AddressLine1','AddressLine2', 'City','StateProvinceName','EnglishCountryRegionName']].apply( lambda x: formataddress(x,True) if(pd.notnull(x['AddressLine2'])) else formataddress(x,False), axis = 1)"
   ]
  },
  {
   "cell_type": "markdown",
   "metadata": {},
   "source": [
    "### Get Address from Google geocoder\n",
    "\n",
    "My original GoogleAPI key only allows for 1000 queries per day, so I broke this up over three days and then joined the results together after doing all the queries."
   ]
  },
  {
   "cell_type": "code",
   "execution_count": 5,
   "metadata": {
    "collapsed": false
   },
   "outputs": [
    {
     "data": {
      "text/plain": [
       "Location((-37.8127572, 144.8614765, 0.0))"
      ]
     },
     "execution_count": 5,
     "metadata": {},
     "output_type": "execute_result"
    }
   ],
   "source": [
    "from geopy.geocoders import GoogleV3\n",
    "geolocator=GoogleV3(api_key='<GoogleAPIKey goes here>')\n",
    "location = geolocator.geocode(df['fulladdress'][224])\n",
    "location"
   ]
  },
  {
   "cell_type": "code",
   "execution_count": 6,
   "metadata": {
    "collapsed": false
   },
   "outputs": [
    {
     "name": "stdout",
     "output_type": "stream",
     "text": [
      "Row: 0 - 244 Rue des Rosiers, 59279 Loon-Plage, France\n"
     ]
    }
   ],
   "source": [
    "def getlocation(x,index):\n",
    "    from time import sleep\n",
    "    sleep(0.2)\n",
    "    lat = 0.0\n",
    "    lon = 0.0\n",
    "    location = None\n",
    "    \n",
    "    try:\n",
    "        location = geolocator.geocode(x['fulladdress'])\n",
    "    except:\n",
    "        print('Problem with row {}... trying again'.format(index))\n",
    "        location = None\n",
    "    \n",
    "    if location == None:\n",
    "        try:\n",
    "            location = geolocator.geocode(x['City'] + ',' + x['StateProvinceName'] + x['EnglishCountryRegionName'])\n",
    "        except:\n",
    "            print('Double Problem')\n",
    "            location = geolocator.geocode(x['EnglishCountryRegionName'])\n",
    "        \n",
    "        if location == None:\n",
    "            print('Row: {} - None'.format(index))\n",
    "        else:\n",
    "            lat = location.latitude +  (np.random.rand()-0.5)/50.\n",
    "            lon = location.longitude + (np.random.rand()-0.5)/50.\n",
    "            print('Row: {} - '.format(index) + location.address)\n",
    "    else:\n",
    "        lat = location.latitude \n",
    "        lon = location.longitude\n",
    "        print('Row: {} - '.format(index) + location.address)\n",
    "    \n",
    "    return (index, lat, lon)\n",
    "    \n",
    "locations = []\n",
    "\n",
    "for index, row in df1.iterrows():\n",
    "    locations.append(getlocation(row,index))\n",
    "    break\n",
    "\n",
    "# Uncomment to save the queried locations\n",
    "#locationDF = pd.DataFrame(locations)\n",
    "# locationDF.to_csv('../data/GeoCodeLocations_sub.csv')"
   ]
  },
  {
   "cell_type": "markdown",
   "metadata": {},
   "source": [
    "I already downloaded all the geocode locations and saved them in a csv file."
   ]
  },
  {
   "cell_type": "code",
   "execution_count": 49,
   "metadata": {
    "collapsed": false
   },
   "outputs": [
    {
     "data": {
      "text/html": [
       "<div>\n",
       "<table border=\"1\" class=\"dataframe\">\n",
       "  <thead>\n",
       "    <tr style=\"text-align: right;\">\n",
       "      <th></th>\n",
       "      <th>ProductKey</th>\n",
       "      <th>CustomerKey</th>\n",
       "      <th>OrderDateKey</th>\n",
       "      <th>ShipDateKey</th>\n",
       "      <th>LastName</th>\n",
       "      <th>FirstName</th>\n",
       "      <th>BirthDate</th>\n",
       "      <th>MaritalStatus</th>\n",
       "      <th>Gender</th>\n",
       "      <th>YearlyIncome</th>\n",
       "      <th>...</th>\n",
       "      <th>StateProvinceCode</th>\n",
       "      <th>StateProvinceName</th>\n",
       "      <th>CountryRegionCode</th>\n",
       "      <th>EnglishCountryRegionName</th>\n",
       "      <th>PostalCode</th>\n",
       "      <th>DateFirstPurchase</th>\n",
       "      <th>CommuteDistance</th>\n",
       "      <th>SalesOrderNumber</th>\n",
       "      <th>lat</th>\n",
       "      <th>lon</th>\n",
       "    </tr>\n",
       "  </thead>\n",
       "  <tbody>\n",
       "    <tr>\n",
       "      <th>0</th>\n",
       "      <td>222</td>\n",
       "      <td>12131</td>\n",
       "      <td>20040412</td>\n",
       "      <td>20040419</td>\n",
       "      <td>Dominguez</td>\n",
       "      <td>Randall</td>\n",
       "      <td>10/17/1955</td>\n",
       "      <td>M</td>\n",
       "      <td>M</td>\n",
       "      <td>90000</td>\n",
       "      <td>...</td>\n",
       "      <td>59</td>\n",
       "      <td>Nord</td>\n",
       "      <td>FR</td>\n",
       "      <td>France</td>\n",
       "      <td>59140</td>\n",
       "      <td>8/24/2001</td>\n",
       "      <td>2-5 Miles</td>\n",
       "      <td>SO68134</td>\n",
       "      <td>50.997385</td>\n",
       "      <td>2.209403</td>\n",
       "    </tr>\n",
       "    <tr>\n",
       "      <th>1</th>\n",
       "      <td>222</td>\n",
       "      <td>13235</td>\n",
       "      <td>20030822</td>\n",
       "      <td>20030829</td>\n",
       "      <td>Robinson</td>\n",
       "      <td>Jonathan</td>\n",
       "      <td>9/22/1948</td>\n",
       "      <td>M</td>\n",
       "      <td>M</td>\n",
       "      <td>60000</td>\n",
       "      <td>...</td>\n",
       "      <td>OR</td>\n",
       "      <td>Oregon</td>\n",
       "      <td>US</td>\n",
       "      <td>United States</td>\n",
       "      <td>97071</td>\n",
       "      <td>8/22/2003</td>\n",
       "      <td>10+ Miles</td>\n",
       "      <td>SO52951</td>\n",
       "      <td>47.542459</td>\n",
       "      <td>-122.261830</td>\n",
       "    </tr>\n",
       "    <tr>\n",
       "      <th>2</th>\n",
       "      <td>222</td>\n",
       "      <td>11195</td>\n",
       "      <td>20040424</td>\n",
       "      <td>20040501</td>\n",
       "      <td>Henderson</td>\n",
       "      <td>Megan</td>\n",
       "      <td>2/10/1946</td>\n",
       "      <td>M</td>\n",
       "      <td>F</td>\n",
       "      <td>60000</td>\n",
       "      <td>...</td>\n",
       "      <td>WA</td>\n",
       "      <td>Washington</td>\n",
       "      <td>US</td>\n",
       "      <td>United States</td>\n",
       "      <td>98055</td>\n",
       "      <td>10/16/2003</td>\n",
       "      <td>10+ Miles</td>\n",
       "      <td>SO68921</td>\n",
       "      <td>47.482876</td>\n",
       "      <td>-122.187895</td>\n",
       "    </tr>\n",
       "    <tr>\n",
       "      <th>3</th>\n",
       "      <td>222</td>\n",
       "      <td>15292</td>\n",
       "      <td>20040406</td>\n",
       "      <td>20040413</td>\n",
       "      <td>Bailey</td>\n",
       "      <td>Megan</td>\n",
       "      <td>6/17/1971</td>\n",
       "      <td>S</td>\n",
       "      <td>F</td>\n",
       "      <td>60000</td>\n",
       "      <td>...</td>\n",
       "      <td>OR</td>\n",
       "      <td>Oregon</td>\n",
       "      <td>US</td>\n",
       "      <td>United States</td>\n",
       "      <td>97071</td>\n",
       "      <td>4/6/2004</td>\n",
       "      <td>1-2 Miles</td>\n",
       "      <td>SO67722</td>\n",
       "      <td>47.676868</td>\n",
       "      <td>-122.130536</td>\n",
       "    </tr>\n",
       "    <tr>\n",
       "      <th>4</th>\n",
       "      <td>222</td>\n",
       "      <td>25767</td>\n",
       "      <td>20031220</td>\n",
       "      <td>20031227</td>\n",
       "      <td>Hill</td>\n",
       "      <td>Bailey</td>\n",
       "      <td>10/22/1968</td>\n",
       "      <td>S</td>\n",
       "      <td>F</td>\n",
       "      <td>100000</td>\n",
       "      <td>...</td>\n",
       "      <td>WA</td>\n",
       "      <td>Washington</td>\n",
       "      <td>US</td>\n",
       "      <td>United States</td>\n",
       "      <td>98403</td>\n",
       "      <td>12/20/2003</td>\n",
       "      <td>0-1 Miles</td>\n",
       "      <td>SO60438</td>\n",
       "      <td>48.057027</td>\n",
       "      <td>-122.169433</td>\n",
       "    </tr>\n",
       "  </tbody>\n",
       "</table>\n",
       "<p>5 rows × 28 columns</p>\n",
       "</div>"
      ],
      "text/plain": [
       "   ProductKey  CustomerKey  OrderDateKey  ShipDateKey   LastName FirstName  \\\n",
       "0         222        12131      20040412     20040419  Dominguez   Randall   \n",
       "1         222        13235      20030822     20030829   Robinson  Jonathan   \n",
       "2         222        11195      20040424     20040501  Henderson     Megan   \n",
       "3         222        15292      20040406     20040413     Bailey     Megan   \n",
       "4         222        25767      20031220     20031227       Hill    Bailey   \n",
       "\n",
       "    BirthDate MaritalStatus Gender  YearlyIncome     ...      \\\n",
       "0  10/17/1955             M      M         90000     ...       \n",
       "1   9/22/1948             M      M         60000     ...       \n",
       "2   2/10/1946             M      F         60000     ...       \n",
       "3   6/17/1971             S      F         60000     ...       \n",
       "4  10/22/1968             S      F        100000     ...       \n",
       "\n",
       "   StateProvinceCode  StateProvinceName CountryRegionCode  \\\n",
       "0                 59               Nord                FR   \n",
       "1                 OR             Oregon                US   \n",
       "2                 WA         Washington                US   \n",
       "3                 OR             Oregon                US   \n",
       "4                 WA         Washington                US   \n",
       "\n",
       "   EnglishCountryRegionName  PostalCode DateFirstPurchase CommuteDistance  \\\n",
       "0                    France       59140         8/24/2001       2-5 Miles   \n",
       "1             United States       97071         8/22/2003       10+ Miles   \n",
       "2             United States       98055        10/16/2003       10+ Miles   \n",
       "3             United States       97071          4/6/2004       1-2 Miles   \n",
       "4             United States       98403        12/20/2003       0-1 Miles   \n",
       "\n",
       "  SalesOrderNumber        lat         lon  \n",
       "0          SO68134  50.997385    2.209403  \n",
       "1          SO52951  47.542459 -122.261830  \n",
       "2          SO68921  47.482876 -122.187895  \n",
       "3          SO67722  47.676868 -122.130536  \n",
       "4          SO60438  48.057027 -122.169433  \n",
       "\n",
       "[5 rows x 28 columns]"
      ]
     },
     "execution_count": 49,
     "metadata": {},
     "output_type": "execute_result"
    }
   ],
   "source": [
    "locationDF = pd.read_csv(\"../data/GeoCodeLocations.csv\")\n",
    "\n",
    "df_withLocations = df.join(locationDF)\n",
    "df_withLocations.drop(['index','fulladdress'],axis=1,inplace=True)\n",
    "df_withLocations.head()"
   ]
  },
  {
   "cell_type": "markdown",
   "metadata": {},
   "source": [
    "Visualize where the customers are."
   ]
  },
  {
   "cell_type": "code",
   "execution_count": 30,
   "metadata": {
    "collapsed": false
   },
   "outputs": [
    {
     "data": {
      "text/plain": [
       "[<matplotlib.lines.Line2D at 0xab8d4e0>]"
      ]
     },
     "execution_count": 30,
     "metadata": {},
     "output_type": "execute_result"
    },
    {
     "data": {
      "image/png": "[encoded data removed]",
      "text/plain": [
       "<matplotlib.figure.Figure at 0x95575c0>"
      ]
     },
     "metadata": {},
     "output_type": "display_data"
    }
   ],
   "source": [
    "from mpl_toolkits.basemap import Basemap\n",
    "import numpy as np\n",
    "import matplotlib.pyplot as plt\n",
    "%matplotlib inline\n",
    "plt.rcParams['figure.figsize'] = (8,6)\n",
    "# lon_0 is central longitude of projection.\n",
    "# resolution = 'c' means use crude resolution coastlines.\n",
    "m = Basemap(projection='kav7',lon_0=0,resolution='c')\n",
    "m.drawcoastlines()\n",
    "#m.fillcontinents(color='coral',lake_color='aqua')\n",
    "# draw parallels and meridians.\n",
    "m.drawparallels(np.arange(-90.,120.,30.))\n",
    "m.drawmeridians(np.arange(0.,360.,60.))\n",
    "#m.drawmapboundary(fill_color='aqua')\n",
    "x,y = m(df_withLocations['lon'].values, df_withLocations['lat'].values)\n",
    "\n",
    "m.plot(x, y, 'bo', markersize=12)\n"
   ]
  },
  {
   "cell_type": "markdown",
   "metadata": {},
   "source": [
    "# Define New Data Columns\n",
    "\n",
    "Define a 'first use' date: a minimum of 3 days shipping plus a gamma random number with a peak at 5 (as seen above).\n",
    "\n",
    "I also want a \"lifetime\" - how long is the customer going to use their helmet? This is parameterized as:\n",
    "\n",
    "- firstUse: the date of first usage of the helmet\n",
    "- finalUse: the date of last usage (which may be modified if there is a severe crash during a trip)\n",
    "- lastTimeUsed: an updated date on the last time that the helmet was used- will be updated until it equals the finalUse date\n"
   ]
  },
  {
   "cell_type": "code",
   "execution_count": 50,
   "metadata": {
    "collapsed": true
   },
   "outputs": [],
   "source": [
    "df_withLocations['shipDate'] = pd.to_datetime(df['ShipDateKey'],format='%Y%m%d')\n",
    "df_withLocations['firstUse'] = df_withLocations['shipDate'].apply(lambda x: x + pd.DateOffset(days= 3 + np.random.gamma(5)))\n",
    "df_withLocations['lastTimeUsed'] = df_withLocations['firstUse']\n",
    "df_withLocations['finalUse'] = df_withLocations['firstUse'].apply(lambda x: x + pd.DateOffset(days= 365.0*np.random.gamma(4)))"
   ]
  },
  {
   "cell_type": "markdown",
   "metadata": {},
   "source": [
    "### Define User Average Parameters\n",
    "\n",
    "- avgSpeed: the average speed for a given user\n",
    "- consistency: how consistent are the speeds for each step for the user\n",
    "- distanceParameter: a number that will be the seed for determing how far a given trip will be (even though the trip will be randomized). The higher the distanceParamter, the longer the average trips.\n",
    "- freqParamter: a number that seeds the next start time calculation. The higher the freqParamter, the shorter the average interval between trips taken for a given user.\n"
   ]
  },
  {
   "cell_type": "code",
   "execution_count": 51,
   "metadata": {
    "collapsed": false
   },
   "outputs": [
    {
     "data": {
      "text/plain": [
       "<matplotlib.axes._subplots.AxesSubplot at 0xdaea9e8>"
      ]
     },
     "execution_count": 51,
     "metadata": {},
     "output_type": "execute_result"
    },
    {
     "data": {
      "image/png": "[encoded data removed]",
      "text/plain": [
       "<matplotlib.figure.Figure at 0xdad2898>"
      ]
     },
     "metadata": {},
     "output_type": "display_data"
    }
   ],
   "source": [
    "df_withLocations['avgSpeed'] = df_withLocations['shipDate'].apply(lambda x: 20* np.random.weibull(10))\n",
    "df_withLocations['avgSpeed'].hist()"
   ]
  },
  {
   "cell_type": "code",
   "execution_count": 52,
   "metadata": {
    "collapsed": false
   },
   "outputs": [
    {
     "data": {
      "text/plain": [
       "<matplotlib.axes._subplots.AxesSubplot at 0xc2e2518>"
      ]
     },
     "execution_count": 52,
     "metadata": {},
     "output_type": "execute_result"
    },
    {
     "data": {
      "image/png": "[encoded data removed]",
      "text/plain": [
       "<matplotlib.figure.Figure at 0xd4ba080>"
      ]
     },
     "metadata": {},
     "output_type": "display_data"
    }
   ],
   "source": [
    "df_withLocations['consistency'] = df_withLocations['shipDate'].apply(lambda x: 10*np.random.random()+1)\n",
    "df_withLocations['consistency'].hist()"
   ]
  },
  {
   "cell_type": "code",
   "execution_count": 53,
   "metadata": {
    "collapsed": false
   },
   "outputs": [
    {
     "data": {
      "text/plain": [
       "<matplotlib.axes._subplots.AxesSubplot at 0xe2c05f8>"
      ]
     },
     "execution_count": 53,
     "metadata": {},
     "output_type": "execute_result"
    },
    {
     "data": {
      "image/png": "[encoded data removed]",
      "text/plain": [
       "<matplotlib.figure.Figure at 0xe029470>"
      ]
     },
     "metadata": {},
     "output_type": "display_data"
    }
   ],
   "source": [
    "df_withLocations['distanceParameter'] = df_withLocations['shipDate'].apply(lambda x: 10*np.random.exponential())\n",
    "df_withLocations['distanceParameter'].hist()"
   ]
  },
  {
   "cell_type": "code",
   "execution_count": 54,
   "metadata": {
    "collapsed": false
   },
   "outputs": [
    {
     "data": {
      "text/plain": [
       "<matplotlib.axes._subplots.AxesSubplot at 0xe4f3710>"
      ]
     },
     "execution_count": 54,
     "metadata": {},
     "output_type": "execute_result"
    },
    {
     "data": {
      "image/png": "[encoded data removed]",
      "text/plain": [
       "<matplotlib.figure.Figure at 0xe3fb4e0>"
      ]
     },
     "metadata": {},
     "output_type": "display_data"
    }
   ],
   "source": [
    "df_withLocations['freqParameter'] = df_withLocations['shipDate'].apply(lambda x: 10*np.random.random()+1)\n",
    "df_withLocations['freqParameter'].hist()"
   ]
  },
  {
   "cell_type": "markdown",
   "metadata": {},
   "source": [
    "Ok, next step: building a random walk. I know the delta T (10 seconds) and the velocity comes from the weibull distribution. I need a direction and then need to get the coordinates of the next point. I also need to get then entire trip distance (from the poisson distribution) and stop when I go far enough."
   ]
  },
  {
   "cell_type": "code",
   "execution_count": 79,
   "metadata": {
    "collapsed": true
   },
   "outputs": [],
   "source": [
    "def tripcalculator(x):\n",
    "    #\n",
    "    # Caculate a set of steps corresponding to a single trip taken by a single user\n",
    "    #\n",
    "    \n",
    "    # Create unique identifier for the trip\n",
    "    tripID = str(uuid.uuid4())\n",
    "    \n",
    "    # Probability that there is a crash during this trip\n",
    "    crashprob = 7.0e-5\n",
    "    \n",
    "    # Initialize trip variables\n",
    "    currentDistance = 0\n",
    "    tripDistance = 0\n",
    "    \n",
    "    # Determine how long this trip will be based on the users's distanceParameter\n",
    "    while tripDistance == 0:\n",
    "        tripDistance = np.random.poisson(x['distanceParameter']) + 2*np.random.random()-1\n",
    "    \n",
    "    # Determine the start time based on a random number given the freqParameter seed.\n",
    "    starttime = x['lastTimeUsed'] + pd.DateOffset(days=np.random.gamma(x['freqParameter']))\n",
    "\n",
    "    currenttime = starttime\n",
    "    deltaTime = 10 #seconds per recording interval\n",
    "\n",
    "    startlat = x['lat'] + np.random.normal(0.0,0.01) # start offset from home a little bit\n",
    "    startlon = x['lon'] + np.random.normal(0.0,0.01)\n",
    "\n",
    "    lat1 = startlat\n",
    "    lon1 = startlon\n",
    "    \n",
    "    # Initialize the array of points with our first point - the start location\n",
    "    trip_points = [[currenttime.strftime('%Y%m%dT%H:%M:%SZ'),\n",
    "                    \"%.5f\" % lat1,\n",
    "                    \"%.5f\" % lon1,\n",
    "                    \"%.3f\" % 0.0,\n",
    "                    \"%.1f\" % 0.0,\n",
    "                    tripID]]\n",
    "\n",
    "\n",
    "    tripAvgSpeed = x['avgSpeed'] * np.random.weibull(x['consistency'])\n",
    "    while tripAvgSpeed > 40:\n",
    "        tripAvgSpeed = x['avgSpeed'] * np.random.weibull(x['consistency'])\n",
    "    \n",
    "    \n",
    "    # Main look for calculating trip points\n",
    "    \n",
    "    hadCrash = False\n",
    "    while currentDistance < tripDistance and not hadCrash:\n",
    "        \n",
    "        # determine step size\n",
    "        deltax = tripAvgSpeed * np.random.weibull(x['consistency']) * deltaTime/3600 #convert time to hours since speed is in km/h\n",
    "        \n",
    "        # get new time based on the deltaTime\n",
    "        currenttime += pd.DateOffset(seconds=deltaTime)\n",
    "        \n",
    "        # Randomize the direction of the step\n",
    "        bearing = 360*np.random.random() - 180\n",
    "        # given: lat1, lon1, b = bearing in degrees, d = distance in kilometers\n",
    "\n",
    "        origin = geopy.Point(lat1, lon1)\n",
    "        \n",
    "        # Get the new point based on the distance traveled\n",
    "        destination = VincentyDistance(kilometers=deltax).destination(origin, bearing)\n",
    "\n",
    "        #update latitude and longitude\n",
    "        lat2, lon2 = destination.latitude, destination.longitude\n",
    "\n",
    "        # Determine if there was a crash (based on distance traveled)\n",
    "        if np.random.random() < deltax * crashprob:\n",
    "            hadCrash = True\n",
    "\n",
    "            injurytype = np.random.random()\n",
    "            if injurytype < 0.17:\n",
    "                accel = np.random.uniform(10,20)\n",
    "\n",
    "            elif injurytype < 0.72:\n",
    "                accel = np.random.uniform(20,40)\n",
    "\n",
    "            elif injurytype < 0.93:\n",
    "                accel = np.random.uniform(30,60)\n",
    "\n",
    "            else:\n",
    "                accel = np.random.uniform(40,90)\n",
    "        else:\n",
    "            accel = 10*np.random.random()\n",
    "\n",
    "        # Append to the trip points array\n",
    "        trip_points.append([currenttime.strftime('%Y%m%dT%H:%M:%SZ'),\n",
    "                    \"%.5f\" % lat2,\n",
    "                    \"%.5f\" % lon2,\n",
    "                    \"%.3f\" % deltax,\n",
    "                    \"%.1f\" % accel,\n",
    "                    tripID])\n",
    "\n",
    "        currentDistance += deltax\n",
    "        lat1 = lat2\n",
    "        lon1 = lon2\n",
    "\n",
    "    return trip_points"
   ]
  },
  {
   "cell_type": "markdown",
   "metadata": {},
   "source": [
    "Test the trip simulator:"
   ]
  },
  {
   "cell_type": "code",
   "execution_count": 85,
   "metadata": {
    "collapsed": false
   },
   "outputs": [
    {
     "name": "stdout",
     "output_type": "stream",
     "text": [
      "             DateTime  Latitude   Longitude StepDistance AccelerometerMag  \\\n",
      "0  20040426T10:37:13Z  47.67790  -122.13059        0.000              0.0   \n",
      "1  20040426T10:37:23Z  47.67755  -122.12918        0.113              6.3   \n",
      "2  20040426T10:37:33Z  47.67847  -122.12874        0.108              2.8   \n",
      "3  20040426T10:37:43Z  47.67859  -122.12823        0.041              3.0   \n",
      "4  20040426T10:37:53Z  47.67966  -122.12804        0.120              8.4   \n",
      "\n",
      "                                 tripID  \n",
      "0  72d0f2d9-385b-424a-b9a3-c1f7bf032483  \n",
      "1  72d0f2d9-385b-424a-b9a3-c1f7bf032483  \n",
      "2  72d0f2d9-385b-424a-b9a3-c1f7bf032483  \n",
      "3  72d0f2d9-385b-424a-b9a3-c1f7bf032483  \n",
      "4  72d0f2d9-385b-424a-b9a3-c1f7bf032483  \n",
      "Total Dist 27.168, Trip time 1.325,  Average speed 20.5041509434\n"
     ]
    },
    {
     "data": {
      "text/plain": [
       "<matplotlib.text.Text at 0x11536e80>"
      ]
     },
     "execution_count": 85,
     "metadata": {},
     "output_type": "execute_result"
    },
    {
     "data": {
      "image/png": "[encoded data removed]",
      "text/plain": [
       "<matplotlib.figure.Figure at 0xf5f1320>"
      ]
     },
     "metadata": {},
     "output_type": "display_data"
    }
   ],
   "source": [
    "trip1 =pd.DataFrame(tripcalculator(df_withLocations.ix[3]),\n",
    "                    columns=['DateTime','Latitude','Longitude','StepDistance','AccelerometerMag','tripID'])\n",
    "\n",
    "print(trip1.head())\n",
    "trip1['DateTime'] = pd.to_datetime(trip1['DateTime'])\n",
    "trip1['Latitude'] = pd.to_numeric(trip1['Latitude'])\n",
    "trip1['Longitude'] = pd.to_numeric(trip1['Longitude'])\n",
    "trip1['StepDistance'] = pd.to_numeric(trip1['StepDistance'])\n",
    "trip1['AccelerometerMag'] = pd.to_numeric(trip1['AccelerometerMag'])\n",
    "\n",
    "\n",
    "f, ((ax1, ax2), (ax3, ax4)) = plt.subplots(2, 2)\n",
    "\n",
    "# Plot the histogram of step sizes\n",
    "trip1['StepDistance'].hist(ax=ax1)\n",
    "ax1.set_title(\"Step Distances\")\n",
    "tripdistance = trip1['StepDistance'].sum()\n",
    "triptime = (trip1['DateTime'].tail(1).values[0] - trip1['DateTime'].head(1).values[0])/ np.timedelta64(1, 'h')\n",
    "\n",
    "print(\"Total Dist {0}, Trip time {2},  Average speed {1}\".format(tripdistance,tripdistance/triptime,triptime))\n",
    "\n",
    "# Plot the accelerometer readings\n",
    "trip1['AccelerometerMag'].plot(ax=ax2)\n",
    "ax2.set_title(\"Accelerometer Readings\")\n",
    "\n",
    "ax3.plot(trip1['DateTime'].values,trip1['StepDistance'].cumsum().values)\n",
    "f.autofmt_xdate()\n",
    "ax3.set_title(\"Total Distance Traveled\")\n",
    "\n",
    "from matplotlib.patches import Polygon\n",
    "\n",
    "# Draw the map based on the maximum and minimum positions of our data points\n",
    "m = Basemap(llcrnrlon=trip1['Longitude'].min(),\n",
    "            llcrnrlat=trip1['Latitude'].min(),\n",
    "            urcrnrlon=trip1['Longitude'].max(),\n",
    "            urcrnrlat=trip1['Latitude'].max(),\n",
    "        projection='merc')\n",
    "\n",
    "m.plot(trip1['Longitude'].values,trip1['Latitude'].values, latlon=True,ax=ax4)\n",
    "ax4.set_title(\"Random Walk\")"
   ]
  },
  {
   "cell_type": "code",
   "execution_count": null,
   "metadata": {
    "collapsed": true
   },
   "outputs": [],
   "source": [
    "#Run through each person and calculate all of their trips.\n",
    "numClients = len(df_withLocations)\n",
    "\n",
    "for k in range(numClients):\n",
    "    \n",
    "    # Each set of trips will be stored in a file - we'll need to combine all of them at some future time\n",
    "    iotID = '_{}_'.format(df2['CustomerKey'][k])+ df2['SalesOrderNumber'][k] + '_{}'.format(df2['ProductKey'][k])\n",
    "    \n",
    "    \n",
    "    # Will continue to run until the lastTimeUsed parameter is larger than the finalUse parameter\n",
    "    # This means that the data could be re-loaded and run in batches from the continuously updated\n",
    "    # updatedCustomerDatabase.csv file\n",
    "    \n",
    "    if df_withLocations['finalUse'][k] > df_withLocations['lastTimeUsed'][k]:\n",
    "        with open('../data/tripdata/data_' + iotID + '.csv', 'w') as csvfile:\n",
    "\n",
    "            filewriter = csv.writer(csvfile, delimiter=',', quoting=csv.QUOTE_MINIMAL,lineterminator='\\n')\n",
    "\n",
    "            filewriter.writerow(['DateTime',\n",
    "                                 'Latitude',\n",
    "                                 'Longitude',\n",
    "                                 'StepDistance',\n",
    "                                 'AccelerometerMag',\n",
    "                                 'tripID'])\n",
    "\n",
    "            ntrips = 0\n",
    "            while df_withLocations['finalUse'][k] > df_withLocations['lastTimeUsed'][k]:\n",
    "\n",
    "                ntrips += 1\n",
    "                newtrip = tripcalculator(df_withLocations.ix[k])\n",
    "\n",
    "                if newtrip:\n",
    "                    filewriter.writerows(newtrip)\n",
    "                    df_withLocations['lastTimeUsed'][k] = pd.to_datetime(newtrip[-1][0])\n",
    "                    if float(newtrip[-1][4]) > 30:\n",
    "                        # we had a bad crash, therefore we're not going to use the helmet any more\n",
    "                        df_withLocations['finalUse'][k] = df_withLocations['lastTimeUsed'][k]\n",
    "                else:\n",
    "                    #We've had our final trip and adjust the last use datetime.\n",
    "                    df_withLocations['finalUse'][k] = df_withLocations['lastTimeUsed'][k]\n",
    "                if ntrips%10 == 0:\n",
    "                    daysremaining =  (df_withLocations['finalUse'][k] - df_withLocations['lastTimeUsed'][k])/ np.timedelta64(1, 'D')\n",
    "                    print(\"Number of Trips {0}: elapsed time {1}: remaining days {2}\".format(ntrips,time()-timestep,daysremaining))\n",
    "\n",
    "                    timestep = time()\n",
    "\n",
    "        clear_output()\n",
    "        print(\"Customer {0}, elapsed time {1}\".format(k, time()-start))\n",
    "        df_withLocations.to_csv('../data/updatedCustomerDatabase.csv',index=False)\n",
    "    "
   ]
  }
 ],
 "metadata": {
  "kernelspec": {
   "display_name": "Python 2",
   "language": "python",
   "name": "python2"
  },
  "language_info": {
   "codemirror_mode": {
    "name": "ipython",
    "version": 2
   },
   "file_extension": ".py",
   "mimetype": "text/x-python",
   "name": "python",
   "nbconvert_exporter": "python",
   "pygments_lexer": "ipython2",
   "version": "2.7.13"
  }
 },
 "nbformat": 4,
 "nbformat_minor": 0
}
